{
 "cells": [
  {
   "cell_type": "code",
   "execution_count": 4,
   "id": "621a20cb",
   "metadata": {},
   "outputs": [
    {
     "data": {
      "text/plain": [
       "False"
      ]
     },
     "execution_count": 4,
     "metadata": {},
     "output_type": "execute_result"
    }
   ],
   "source": [
    "bytes is str"
   ]
  },
  {
   "cell_type": "markdown",
   "id": "15077442",
   "metadata": {},
   "source": [
    "### bytes is a built-in data type in Python 3; therefore, you could define bytes directly using the bytes keyword."
   ]
  },
  {
   "cell_type": "code",
   "execution_count": null,
   "id": "002d3c6b",
   "metadata": {},
   "outputs": [],
   "source": [
    "testByte = bytes(18)\n",
    "type(testByte)"
   ]
  },
  {
   "cell_type": "markdown",
   "id": "bd915c0f",
   "metadata": {},
   "source": [
    "### You could also directly define a bytes or bytes array like below."
   ]
  },
  {
   "cell_type": "code",
   "execution_count": 8,
   "id": "8020edf6",
   "metadata": {},
   "outputs": [
    {
     "data": {
      "text/plain": [
       "bytes"
      ]
     },
     "execution_count": 8,
     "metadata": {},
     "output_type": "execute_result"
    }
   ],
   "source": [
    "testBytes = b'\\x01\\x21\\31\\41'\n",
    "type(testBytes)"
   ]
  },
  {
   "cell_type": "markdown",
   "id": "ce393200",
   "metadata": {},
   "source": [
    "## bytes to integers"
   ]
  },
  {
   "cell_type": "code",
   "execution_count": 9,
   "id": "08d73b48",
   "metadata": {},
   "outputs": [
    {
     "data": {
      "text/plain": [
       "61712"
      ]
     },
     "execution_count": 9,
     "metadata": {},
     "output_type": "execute_result"
    }
   ],
   "source": [
    "testBytes = b'\\xF1\\x10'\n",
    "int.from_bytes(testBytes, byteorder='big')"
   ]
  },
  {
   "cell_type": "markdown",
   "id": "c69ca0cd",
   "metadata": {},
   "source": [
    "### int.from_bytes() has a third option signed to assign the integer type to be signed or unsigned"
   ]
  },
  {
   "cell_type": "code",
   "execution_count": 10,
   "id": "3f860431",
   "metadata": {},
   "outputs": [
    {
     "data": {
      "text/plain": [
       "-3824"
      ]
     },
     "execution_count": 10,
     "metadata": {},
     "output_type": "execute_result"
    }
   ],
   "source": [
    "testBytes = b'\\xF1\\x10'\n",
    "int.from_bytes(testBytes, byteorder='big', signed=True)"
   ]
  },
  {
   "cell_type": "code",
   "execution_count": 12,
   "id": "e0db2934",
   "metadata": {},
   "outputs": [
    {
     "name": "stdout",
     "output_type": "stream",
     "text": [
      "241\n",
      "16\n"
     ]
    }
   ],
   "source": [
    "testBytes = b'\\xF1\\x10'\n",
    "print(testBytes[0])\n",
    "#241\n",
    "print(testBytes[1])\n",
    "#16"
   ]
  },
  {
   "cell_type": "markdown",
   "id": "993962d7",
   "metadata": {},
   "source": [
    "# Int to Bytes"
   ]
  },
  {
   "cell_type": "code",
   "execution_count": 13,
   "id": "53ddf05d",
   "metadata": {},
   "outputs": [
    {
     "data": {
      "text/plain": [
       "b'\\x02'"
      ]
     },
     "execution_count": 13,
     "metadata": {},
     "output_type": "execute_result"
    }
   ],
   "source": [
    "import struct\n",
    "struct.pack(\"B\", 2)\n",
    "#'\\x02'\n"
   ]
  },
  {
   "cell_type": "code",
   "execution_count": 14,
   "id": "f42c69f6",
   "metadata": {},
   "outputs": [
    {
     "data": {
      "text/plain": [
       "'\\x00\\x02'"
      ]
     },
     "execution_count": 14,
     "metadata": {},
     "output_type": "execute_result"
    }
   ],
   "source": [
    "struct.pack(\">H\", 2)\n",
    "#'\\x00\\x02'\n"
   ]
  },
  {
   "cell_type": "code",
   "execution_count": 15,
   "id": "2cce120a",
   "metadata": {},
   "outputs": [
    {
     "data": {
      "text/plain": [
       "b'\\x02\\x00'"
      ]
     },
     "execution_count": 15,
     "metadata": {},
     "output_type": "execute_result"
    }
   ],
   "source": [
    "struct.pack(\"<H\", 2)\n",
    "#'\\x02\\x00'"
   ]
  },
  {
   "cell_type": "code",
   "execution_count": 18,
   "id": "105a7e77",
   "metadata": {},
   "outputs": [
    {
     "data": {
      "text/plain": [
       "b'\\xc8\\xff\\xff\\xff'"
      ]
     },
     "execution_count": 18,
     "metadata": {},
     "output_type": "execute_result"
    }
   ],
   "source": [
    "struct.pack(\"<i\", -56)\n"
   ]
  },
  {
   "cell_type": "code",
   "execution_count": 19,
   "id": "bdfb88f2",
   "metadata": {},
   "outputs": [
    {
     "data": {
      "text/plain": [
       "b'\\x17\\x00'"
      ]
     },
     "execution_count": 19,
     "metadata": {},
     "output_type": "execute_result"
    }
   ],
   "source": [
    "struct.pack(\"<h\", 23)\n"
   ]
  },
  {
   "cell_type": "code",
   "execution_count": 20,
   "id": "7ed61448",
   "metadata": {},
   "outputs": [
    {
     "data": {
      "text/plain": [
       "b'!\\x00'"
      ]
     },
     "execution_count": 20,
     "metadata": {},
     "output_type": "execute_result"
    }
   ],
   "source": [
    "struct.pack(\"<h\", 33)\n"
   ]
  },
  {
   "cell_type": "code",
   "execution_count": null,
   "id": "657bc321",
   "metadata": {},
   "outputs": [],
   "source": []
  }
 ],
 "metadata": {
  "kernelspec": {
   "display_name": "Python 3 (ipykernel)",
   "language": "python",
   "name": "python3"
  },
  "language_info": {
   "codemirror_mode": {
    "name": "ipython",
    "version": 3
   },
   "file_extension": ".py",
   "mimetype": "text/x-python",
   "name": "python",
   "nbconvert_exporter": "python",
   "pygments_lexer": "ipython3",
   "version": "3.9.7"
  }
 },
 "nbformat": 4,
 "nbformat_minor": 5
}
